{
 "cells": [
  {
   "cell_type": "code",
   "execution_count": 5,
   "id": "24e63875",
   "metadata": {},
   "outputs": [],
   "source": [
    "import pandas as pd\n",
    "import numpy as np\n",
    "import matplotlib.pyplot as plt\n",
    "import seaborn as sns\n",
    "from pandas_plink import read_plink1_bin\n",
    "import warnings"
   ]
  },
  {
   "cell_type": "code",
   "execution_count": 6,
   "id": "592d6d46",
   "metadata": {},
   "outputs": [],
   "source": [
    "plt.style.use('default')\n",
    "sns.set_palette(\"husl\")\n",
    "plt.rcParams['figure.figsize'] = (10, 6)\n",
    "plt.rcParams['font.size'] = 12"
   ]
  },
  {
   "cell_type": "code",
   "execution_count": 7,
   "id": "7c9205e4",
   "metadata": {},
   "outputs": [
    {
     "name": "stdout",
     "output_type": "stream",
     "text": [
      "Loading PLINK data...\n",
      "BED file: /home/vcm/BIOSTATS915_HighDimensionalStatisticsAndMachineLearning/HW1/hw-optionB-files/ADAPTmap_genotypeTOP_20160222_full.bed\n",
      "✓ Data loaded successfully!\n",
      "Data type: <class 'xarray.core.dataarray.DataArray'>\n"
     ]
    }
   ],
   "source": [
    "# ===================================\n",
    "# Cell 1: Load Data (CORRECT METHOD)\n",
    "# ===================================\n",
    "\n",
    "# Set data path - need to include .bed extension!\n",
    "data_prefix = \"/home/vcm/BIOSTATS915_HighDimensionalStatisticsAndMachineLearning/HW1/hw-optionB-files/ADAPTmap_genotypeTOP_20160222_full\"\n",
    "bed_file = data_prefix + '.bed'\n",
    "\n",
    "# Load PLINK format data with correct method\n",
    "try:\n",
    "    print(\"Loading PLINK data...\")\n",
    "    print(f\"BED file: {bed_file}\")\n",
    "    goat_data = read_plink1_bin(bed_file, verbose=False)\n",
    "    print(\"✓ Data loaded successfully!\")\n",
    "    print(f\"Data type: {type(goat_data)}\")\n",
    "except Exception as e:\n",
    "    print(f\"Failed to load data: {e}\")\n",
    "    raise"
   ]
  },
  {
   "cell_type": "code",
   "execution_count": 12,
   "id": "04782d98",
   "metadata": {},
   "outputs": [
    {
     "name": "stdout",
     "output_type": "stream",
     "text": [
      "\n",
      "=== DATASET OVERVIEW ===\n",
      "Number of individuals: 4,653\n",
      "Number of SNPs: 53,347\n",
      "Genotype matrix shape: (4653, 53347) (Individuals x SNPs)\n",
      "\n",
      "=== ASSIGNMENT QUESTIONS ===\n",
      "Q: How many subjects/individuals are in this goat dataset?\n",
      "A: 4,653 individuals\n",
      "\n",
      "Q: How many different populations of goats are in this dataset?\n",
      "A: 144 different populations\n"
     ]
    }
   ],
   "source": [
    "# ===================================\n",
    "# Cell 2: Data Overview - Correct xarray access\n",
    "# ===================================\n",
    "\n",
    "print(\"\\n=== DATASET OVERVIEW ===\")\n",
    "print(f\"Number of individuals: {goat_data.sample.shape[0]:,}\")\n",
    "print(f\"Number of SNPs: {goat_data.variant.shape[0]:,}\")\n",
    "print(f\"Genotype matrix shape: {goat_data.values.shape} (Individuals x SNPs)\")\n",
    "\n",
    "# Access data from xarray coordinates (not converting to pandas)\n",
    "n_individuals = len(goat_data.sample)\n",
    "n_populations = len(np.unique(goat_data.sample.fid.values))\n",
    "\n",
    "print(f\"\\n=== ASSIGNMENT QUESTIONS ===\")\n",
    "print(f\"Q: How many subjects/individuals are in this goat dataset?\")\n",
    "print(f\"A: {n_individuals:,} individuals\")\n",
    "\n",
    "print(f\"\\nQ: How many different populations of goats are in this dataset?\")\n",
    "print(f\"A: {n_populations} different populations\")"
   ]
  }
 ],
 "metadata": {
  "kernelspec": {
   "display_name": "biostats",
   "language": "python",
   "name": "python3"
  },
  "language_info": {
   "codemirror_mode": {
    "name": "ipython",
    "version": 3
   },
   "file_extension": ".py",
   "mimetype": "text/x-python",
   "name": "python",
   "nbconvert_exporter": "python",
   "pygments_lexer": "ipython3",
   "version": "3.13.7"
  }
 },
 "nbformat": 4,
 "nbformat_minor": 5
}
