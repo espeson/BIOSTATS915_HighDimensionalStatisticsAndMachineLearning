{
 "cells": [
  {
   "cell_type": "code",
   "execution_count": 12,
   "id": "24e63875",
   "metadata": {},
   "outputs": [],
   "source": [
    "import pandas as pd\n",
    "import numpy as np\n",
    "import matplotlib.pyplot as plt\n",
    "import seaborn as sns\n",
    "from pandas_plink import read_plink1_bin\n",
    "import warnings"
   ]
  },
  {
   "cell_type": "code",
   "execution_count": 11,
   "id": "592d6d46",
   "metadata": {},
   "outputs": [],
   "source": [
    "plt.style.use('default')\n",
    "sns.set_palette(\"husl\")\n",
    "plt.rcParams['figure.figsize'] = (10, 6)\n",
    "plt.rcParams['font.size'] = 12"
   ]
  },
  {
   "cell_type": "code",
   "execution_count": 18,
   "id": "7c9205e4",
   "metadata": {},
   "outputs": [
    {
     "name": "stdout",
     "output_type": "stream",
     "text": [
      "Loading PLINK data...\n",
      "Failed to load data: No BED file has been found.\n",
      "Please ensure data files (.bed, .bim, .fam) are in the correct path\n"
     ]
    }
   ],
   "source": [
    "# Set data path - modify according to your actual file location\n",
    "data_prefix = r\"/home/vcm/BIOSTATS915_HighDimensionalStatisticsAndMachineLearning/HW1/hw-optionB-files/ADAPTmap_genotypeTOP_20160222_full\"\n",
    "\n",
    "# Load PLINK format data\n",
    "try:\n",
    "    print(\"Loading PLINK data...\")\n",
    "    goat_data = read_plink1_bin(data_prefix, verbose=False)\n",
    "    print(\"Data loaded successfully!\")\n",
    "    print(f\"Data type: {type(goat_data)}\")\n",
    "except Exception as e:\n",
    "    print(f\"Failed to load data: {e}\")\n",
    "    print(\"Please ensure data files (.bed, .bim, .fam) are in the correct path\")"
   ]
  }
 ],
 "metadata": {
  "kernelspec": {
   "display_name": "biostats",
   "language": "python",
   "name": "python3"
  },
  "language_info": {
   "codemirror_mode": {
    "name": "ipython",
    "version": 3
   },
   "file_extension": ".py",
   "mimetype": "text/x-python",
   "name": "python",
   "nbconvert_exporter": "python",
   "pygments_lexer": "ipython3",
   "version": "3.13.7"
  }
 },
 "nbformat": 4,
 "nbformat_minor": 5
}
